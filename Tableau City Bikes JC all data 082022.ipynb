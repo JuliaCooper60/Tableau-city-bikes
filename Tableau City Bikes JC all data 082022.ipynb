{
 "cells": [
  {
   "cell_type": "code",
   "execution_count": 1,
   "id": "34737f69",
   "metadata": {},
   "outputs": [],
   "source": [
    "import pandas as pd\n",
    "import datetime as dt\n",
    "import dateutil.parser\n",
    "import calendar\n",
    "# !pip install openpyxl"
   ]
  },
  {
   "cell_type": "code",
   "execution_count": 2,
   "id": "5f2aa3f8",
   "metadata": {},
   "outputs": [],
   "source": [
    "# Read in CSVs downloaded from Citibike data\n",
    "\n",
    "jc_data_all_df = pd.read_csv('jc_citbikes 2.csv')\n"
   ]
  },
  {
   "cell_type": "code",
   "execution_count": 3,
   "id": "8ac1ff2f",
   "metadata": {
    "scrolled": false
   },
   "outputs": [
    {
     "name": "stdout",
     "output_type": "stream",
     "text": [
      "<class 'pandas.core.frame.DataFrame'>\n",
      "RangeIndex: 1000000 entries, 0 to 999999\n",
      "Data columns (total 13 columns):\n",
      " #   Column              Non-Null Count    Dtype  \n",
      "---  ------              --------------    -----  \n",
      " 0   started_at          1000000 non-null  object \n",
      " 1   ended_at            1000000 non-null  object \n",
      " 2   start_station_id    1000000 non-null  object \n",
      " 3   start_station_name  1000000 non-null  object \n",
      " 4   start_lat           1000000 non-null  float64\n",
      " 5   start_lng           1000000 non-null  float64\n",
      " 6   end_station_id      997224 non-null   object \n",
      " 7   end_station_name    997224 non-null   object \n",
      " 8   end_lat             998155 non-null   float64\n",
      " 9   end_lng             998155 non-null   float64\n",
      " 10  member_casual       1000000 non-null  object \n",
      " 11  new_duration        1000000 non-null  float64\n",
      " 12  index1              1000000 non-null  int64  \n",
      "dtypes: float64(5), int64(1), object(7)\n",
      "memory usage: 99.2+ MB\n"
     ]
    }
   ],
   "source": [
    "jc_data_all_df.info()"
   ]
  },
  {
   "cell_type": "code",
   "execution_count": 4,
   "id": "7124eea6",
   "metadata": {},
   "outputs": [
    {
     "data": {
      "text/plain": [
       "0          9.0\n",
       "1         19.0\n",
       "2         22.0\n",
       "3         12.0\n",
       "4          2.0\n",
       "          ... \n",
       "999995     7.0\n",
       "999996     4.0\n",
       "999997     2.0\n",
       "999998     6.0\n",
       "999999     3.0\n",
       "Length: 1000000, dtype: float64"
      ]
     },
     "execution_count": 4,
     "metadata": {},
     "output_type": "execute_result"
    }
   ],
   "source": [
    "jc_data_all_df['started_at'] = pd.to_datetime(jc_data_all_df['started_at'])\n",
    "jc_data_all_df['ended_at'] = pd.to_datetime(jc_data_all_df['ended_at'])\n",
    "(jc_data_all_df.ended_at-jc_data_all_df.started_at).astype('timedelta64[m]')"
   ]
  },
  {
   "cell_type": "code",
   "execution_count": 7,
   "id": "859df09c",
   "metadata": {
    "scrolled": true
   },
   "outputs": [],
   "source": [
    "jc_data_all_clean_df=jc_data_all_df[jc_data_all_df['started_at']<'2022-09-01 00:00:00']"
   ]
  },
  {
   "cell_type": "code",
   "execution_count": 13,
   "id": "25c115ba",
   "metadata": {},
   "outputs": [
    {
     "data": {
      "text/html": [
       "<div>\n",
       "<style scoped>\n",
       "    .dataframe tbody tr th:only-of-type {\n",
       "        vertical-align: middle;\n",
       "    }\n",
       "\n",
       "    .dataframe tbody tr th {\n",
       "        vertical-align: top;\n",
       "    }\n",
       "\n",
       "    .dataframe thead th {\n",
       "        text-align: right;\n",
       "    }\n",
       "</style>\n",
       "<table border=\"1\" class=\"dataframe\">\n",
       "  <thead>\n",
       "    <tr style=\"text-align: right;\">\n",
       "      <th></th>\n",
       "      <th>started_at</th>\n",
       "      <th>ended_at</th>\n",
       "      <th>start_station_id</th>\n",
       "      <th>start_station_name</th>\n",
       "      <th>start_lat</th>\n",
       "      <th>start_lng</th>\n",
       "      <th>end_station_id</th>\n",
       "      <th>end_station_name</th>\n",
       "      <th>end_lat</th>\n",
       "      <th>end_lng</th>\n",
       "      <th>member_casual</th>\n",
       "      <th>new_duration</th>\n",
       "      <th>index1</th>\n",
       "    </tr>\n",
       "  </thead>\n",
       "  <tbody>\n",
       "    <tr>\n",
       "      <th>0</th>\n",
       "      <td>2022-07-24 16:32:53.000</td>\n",
       "      <td>2022-07-24 16:42:00.000</td>\n",
       "      <td>JC109</td>\n",
       "      <td>Bergen Ave &amp; Sip Ave</td>\n",
       "      <td>40.731009</td>\n",
       "      <td>-74.064437</td>\n",
       "      <td>JC095</td>\n",
       "      <td>Bergen Ave</td>\n",
       "      <td>40.722104</td>\n",
       "      <td>-74.071455</td>\n",
       "      <td>member</td>\n",
       "      <td>9.0</td>\n",
       "      <td>1087930</td>\n",
       "    </tr>\n",
       "    <tr>\n",
       "      <th>1</th>\n",
       "      <td>2021-12-07 19:58:31.000</td>\n",
       "      <td>2021-12-07 20:18:06.000</td>\n",
       "      <td>HB105</td>\n",
       "      <td>City Hall - Washington St &amp; 1 St</td>\n",
       "      <td>40.737360</td>\n",
       "      <td>-74.030970</td>\n",
       "      <td>JC066</td>\n",
       "      <td>Newport PATH</td>\n",
       "      <td>40.727224</td>\n",
       "      <td>-74.033759</td>\n",
       "      <td>member</td>\n",
       "      <td>19.0</td>\n",
       "      <td>601486</td>\n",
       "    </tr>\n",
       "    <tr>\n",
       "      <th>2</th>\n",
       "      <td>2020-07-20 20:42:48.596</td>\n",
       "      <td>2020-07-20 21:05:31.010</td>\n",
       "      <td>3195</td>\n",
       "      <td>Sip Ave</td>\n",
       "      <td>40.730897</td>\n",
       "      <td>-74.063913</td>\n",
       "      <td>3280</td>\n",
       "      <td>Astor Place</td>\n",
       "      <td>40.719282</td>\n",
       "      <td>-74.071262</td>\n",
       "      <td>Subscriber</td>\n",
       "      <td>22.0</td>\n",
       "      <td>567811</td>\n",
       "    </tr>\n",
       "    <tr>\n",
       "      <th>3</th>\n",
       "      <td>2020-10-03 15:52:09.559</td>\n",
       "      <td>2020-10-03 16:04:21.296</td>\n",
       "      <td>3185</td>\n",
       "      <td>City Hall</td>\n",
       "      <td>40.717732</td>\n",
       "      <td>-74.043845</td>\n",
       "      <td>3192</td>\n",
       "      <td>Liberty Light Rail</td>\n",
       "      <td>40.711242</td>\n",
       "      <td>-74.055701</td>\n",
       "      <td>Subscriber</td>\n",
       "      <td>12.0</td>\n",
       "      <td>681751</td>\n",
       "    </tr>\n",
       "    <tr>\n",
       "      <th>4</th>\n",
       "      <td>2022-03-19 22:10:48.000</td>\n",
       "      <td>2022-03-19 22:13:39.000</td>\n",
       "      <td>JC056</td>\n",
       "      <td>Sip Ave</td>\n",
       "      <td>40.730897</td>\n",
       "      <td>-74.063913</td>\n",
       "      <td>JC055</td>\n",
       "      <td>McGinley Square</td>\n",
       "      <td>40.725340</td>\n",
       "      <td>-74.067622</td>\n",
       "      <td>member</td>\n",
       "      <td>2.0</td>\n",
       "      <td>703544</td>\n",
       "    </tr>\n",
       "  </tbody>\n",
       "</table>\n",
       "</div>"
      ],
      "text/plain": [
       "                started_at                 ended_at start_station_id  \\\n",
       "0  2022-07-24 16:32:53.000  2022-07-24 16:42:00.000            JC109   \n",
       "1  2021-12-07 19:58:31.000  2021-12-07 20:18:06.000            HB105   \n",
       "2  2020-07-20 20:42:48.596  2020-07-20 21:05:31.010             3195   \n",
       "3  2020-10-03 15:52:09.559  2020-10-03 16:04:21.296             3185   \n",
       "4  2022-03-19 22:10:48.000  2022-03-19 22:13:39.000            JC056   \n",
       "\n",
       "                 start_station_name  start_lat  start_lng end_station_id  \\\n",
       "0              Bergen Ave & Sip Ave  40.731009 -74.064437          JC095   \n",
       "1  City Hall - Washington St & 1 St  40.737360 -74.030970          JC066   \n",
       "2                           Sip Ave  40.730897 -74.063913           3280   \n",
       "3                         City Hall  40.717732 -74.043845           3192   \n",
       "4                           Sip Ave  40.730897 -74.063913          JC055   \n",
       "\n",
       "     end_station_name    end_lat    end_lng member_casual  new_duration  \\\n",
       "0          Bergen Ave  40.722104 -74.071455        member           9.0   \n",
       "1        Newport PATH  40.727224 -74.033759        member          19.0   \n",
       "2         Astor Place  40.719282 -74.071262    Subscriber          22.0   \n",
       "3  Liberty Light Rail  40.711242 -74.055701    Subscriber          12.0   \n",
       "4     McGinley Square  40.725340 -74.067622        member           2.0   \n",
       "\n",
       "    index1  \n",
       "0  1087930  \n",
       "1   601486  \n",
       "2   567811  \n",
       "3   681751  \n",
       "4   703544  "
      ]
     },
     "execution_count": 13,
     "metadata": {},
     "output_type": "execute_result"
    }
   ],
   "source": [
    "jc_data_all_df.head()"
   ]
  },
  {
   "cell_type": "code",
   "execution_count": 9,
   "id": "97a677db",
   "metadata": {
    "scrolled": false
   },
   "outputs": [
    {
     "data": {
      "text/plain": [
       "Series([], Name: started_at, dtype: datetime64[ns])"
      ]
     },
     "execution_count": 9,
     "metadata": {},
     "output_type": "execute_result"
    }
   ],
   "source": [
    "jc_data_all_clean_df['started_at'].loc[jc_data_all_df['started_at'] >'2022-09-01 00:00:00']"
   ]
  },
  {
   "cell_type": "code",
   "execution_count": 11,
   "id": "4d5c092d",
   "metadata": {},
   "outputs": [
    {
     "name": "stdout",
     "output_type": "stream",
     "text": [
      "<class 'pandas.core.frame.DataFrame'>\n",
      "Int64Index: 978174 entries, 0 to 999999\n",
      "Data columns (total 13 columns):\n",
      " #   Column              Non-Null Count   Dtype         \n",
      "---  ------              --------------   -----         \n",
      " 0   started_at          978174 non-null  datetime64[ns]\n",
      " 1   ended_at            978174 non-null  datetime64[ns]\n",
      " 2   start_station_id    978174 non-null  object        \n",
      " 3   start_station_name  978174 non-null  object        \n",
      " 4   start_lat           978174 non-null  float64       \n",
      " 5   start_lng           978174 non-null  float64       \n",
      " 6   end_station_id      975505 non-null  object        \n",
      " 7   end_station_name    975505 non-null  object        \n",
      " 8   end_lat             976400 non-null  float64       \n",
      " 9   end_lng             976400 non-null  float64       \n",
      " 10  member_casual       978174 non-null  object        \n",
      " 11  new_duration        978174 non-null  float64       \n",
      " 12  index1              978174 non-null  int64         \n",
      "dtypes: datetime64[ns](2), float64(5), int64(1), object(5)\n",
      "memory usage: 104.5+ MB\n"
     ]
    }
   ],
   "source": [
    "jc_data_all_clean_df.info()"
   ]
  },
  {
   "cell_type": "code",
   "execution_count": 14,
   "id": "3711925a",
   "metadata": {},
   "outputs": [],
   "source": [
    "jc_data_all_clean_df.to_csv('jc_citbikes_clean.csv',index=0)\n",
    "jc_citbikes_clean = pd.read_csv('jc_citbikes_clean.csv')"
   ]
  },
  {
   "cell_type": "code",
   "execution_count": null,
   "id": "63b81484",
   "metadata": {},
   "outputs": [],
   "source": []
  }
 ],
 "metadata": {
  "kernelspec": {
   "display_name": "Python [conda env:bootcamp] *",
   "language": "python",
   "name": "conda-env-bootcamp-py"
  },
  "language_info": {
   "codemirror_mode": {
    "name": "ipython",
    "version": 3
   },
   "file_extension": ".py",
   "mimetype": "text/x-python",
   "name": "python",
   "nbconvert_exporter": "python",
   "pygments_lexer": "ipython3",
   "version": "3.7.13"
  }
 },
 "nbformat": 4,
 "nbformat_minor": 5
}
